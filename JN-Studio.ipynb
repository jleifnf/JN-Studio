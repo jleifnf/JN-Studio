{
 "cells": [
  {
   "cell_type": "markdown",
   "metadata": {
    "pycharm": {
     "name": "#%% md\n"
    }
   },
   "source": [
    "#  Title\n",
    "### Data source: \n",

    "Requested data from [Opus Data API](https://www.opusdata.com)\n",
    "\n",
    "Inflation data from [US Inflation Calculator](https://www.usinflationcalculator.com)"

    "Requested data from <a href=https://www.the-numbers.com/>The Numbers</a> (of OpusData) and <a href=''>Inflation Calcuation</a>"

   ]
  },
  {
   "cell_type": "markdown",
   "metadata": {
    "pycharm": {
     "is_executing": false,
     "name": "#%% md\n"
    }
   },
   "source": [

    "### Module Imports and custom functions\n"

   ]
  },
  {
   "cell_type": "code",
   "execution_count": 1,
   "metadata": {
    "pycharm": {
     "is_executing": false,
     "name": "#%%\n"
    }
   },
   "outputs": [],
   "source": [
    "import seaborn as sns\n",
    "%matplotlib inline\n",
    "from data_preprocess import *\n",
    "sns.set_style('darkgrid')"
   ]
  },
  {
   "cell_type": "markdown",
   "metadata": {
    "pycharm": {
     "name": "#%% md\n"
    }
   },
   "source": [

    " ### Load, Clean, and Adjust for Inflation\n",

    " "
   ]
  },
  {
   "cell_type": "code",
   "execution_count": 2,
   "metadata": {
    "pycharm": {
     "is_executing": false,
     "name": "#%%\n"

    },
    "scrolled": false

   },
   "outputs": [
    {
     "data": {
      "text/html": [
       "<div>\n",
       "<style scoped>\n",
       "    .dataframe tbody tr th:only-of-type {\n",
       "        vertical-align: middle;\n",
       "    }\n",
       "\n",
       "    .dataframe tbody tr th {\n",
       "        vertical-align: top;\n",
       "    }\n",
       "\n",
       "    .dataframe thead th {\n",
       "        text-align: right;\n",
       "    }\n",
       "</style>\n",
       "<table border=\"1\" class=\"dataframe\">\n",
       "  <thead>\n",
       "    <tr style=\"text-align: right;\">\n",
       "      <th></th>\n",
       "      <th>title</th>\n",
       "      <th>year</th>\n",
       "      <th>budget</th>\n",
       "      <th>rating</th>\n",
       "      <th>creative</th>\n",
       "      <th>source</th>\n",
       "      <th>genre</th>\n",
       "      <th>time</th>\n",
       "      <th>profit</th>\n",
       "      <th>sequel</th>\n",
       "    </tr>\n",
       "  </thead>\n",
       "  <tbody>\n",
       "    <tr>\n",

       "      <th>695</th>\n",
       "      <td>Avatar</td>\n",
       "      <td>2009</td>\n",
       "      <td>425000000</td>\n",
       "      <td>PG-13</td>\n",
       "      <td>Science Fiction</td>\n",
       "      <td>Original Screenplay</td>\n",
       "      <td>Action</td>\n",
       "      <td>162.0</td>\n",
       "      <td>2351345279</td>\n",
       "      <td>0.0</td>\n",
       "    </tr>\n",
       "    <tr>\n",
       "      <th>1895</th>\n",
       "      <td>Avengers: Infinity War</td>\n",
       "      <td>2017</td>\n",
       "      <td>300000000</td>\n",
       "      <td>PG-13</td>\n",
       "      <td>Super Hero</td>\n",
       "      <td>Based on Comic/Graphic Novel</td>\n",
       "      <td>Action</td>\n",
       "      <td>156.0</td>\n",
       "      <td>1748797682</td>\n",
       "      <td>1.0</td>\n",
       "    </tr>\n",
       "    <tr>\n",
       "      <th>1641</th>\n",
       "      <td>Star Wars Ep. VII: The Force Awakens</td>\n",
       "      <td>2015</td>\n",
       "      <td>306000000</td>\n",
       "      <td>PG-13</td>\n",
       "      <td>Science Fiction</td>\n",
       "      <td>Original Screenplay</td>\n",
       "      <td>Adventure</td>\n",
       "      <td>136.0</td>\n",
       "      <td>1747311220</td>\n",
       "      <td>1.0</td>\n",
       "    </tr>\n",
       "    <tr>\n",
       "      <th>1475</th>\n",
       "      <td>Jurassic World</td>\n",
       "      <td>2014</td>\n",
       "      <td>215000000</td>\n",
       "      <td>PG-13</td>\n",
       "      <td>Science Fiction</td>\n",
       "      <td>Based on Fiction Book/Short Story</td>\n",
       "      <td>Action</td>\n",
       "      <td>124.0</td>\n",
       "      <td>1433854864</td>\n",
       "      <td>1.0</td>\n",
       "    </tr>\n",
       "    <tr>\n",
       "      <th>1473</th>\n",
       "      <td>Furious 7</td>\n",
       "      <td>2014</td>\n",
       "      <td>190000000</td>\n",
       "      <td>PG-13</td>\n",
       "      <td>Contemporary Fiction</td>\n",
       "      <td>Original Screenplay</td>\n",
       "      <td>Action</td>\n",
       "      <td>137.0</td>\n",
       "      <td>1328722794</td>\n",
       "      <td>1.0</td>\n",

       "    </tr>\n",
       "  </tbody>\n",
       "</table>\n",
       "</div>"
      ],
      "text/plain": [

       "                                     title  year     budget rating  \\\n",
       "695                                 Avatar  2009  425000000  PG-13   \n",
       "1895                Avengers: Infinity War  2017  300000000  PG-13   \n",
       "1641  Star Wars Ep. VII: The Force Awakens  2015  306000000  PG-13   \n",
       "1475                        Jurassic World  2014  215000000  PG-13   \n",
       "1473                             Furious 7  2014  190000000  PG-13   \n",
       "\n",
       "                  creative                             source      genre  \\\n",
       "695        Science Fiction                Original Screenplay     Action   \n",
       "1895            Super Hero       Based on Comic/Graphic Novel     Action   \n",
       "1641       Science Fiction                Original Screenplay  Adventure   \n",
       "1475       Science Fiction  Based on Fiction Book/Short Story     Action   \n",
       "1473  Contemporary Fiction                Original Screenplay     Action   \n",
       "\n",
       "       time      profit  sequel  \n",
       "695   162.0  2351345279     0.0  \n",
       "1895  156.0  1748797682     1.0  \n",
       "1641  136.0  1747311220     1.0  \n",
       "1475  124.0  1433854864     1.0  \n",
       "1473  137.0  1328722794     1.0  "
      ]
     },
     "metadata": {},
     "output_type": "display_data"
    },
    {
     "data": {
      "text/html": [
       "<div>\n",
       "<style scoped>\n",
       "    .dataframe tbody tr th:only-of-type {\n",
       "        vertical-align: middle;\n",
       "    }\n",
       "\n",
       "    .dataframe tbody tr th {\n",
       "        vertical-align: top;\n",
       "    }\n",
       "\n",
       "    .dataframe thead th {\n",
       "        text-align: right;\n",
       "    }\n",
       "</style>\n",
       "<table border=\"1\" class=\"dataframe\">\n",
       "  <thead>\n",
       "    <tr style=\"text-align: right;\">\n",
       "      <th></th>\n",
       "      <th>year</th>\n",
       "      <th>budget</th>\n",
       "      <th>time</th>\n",
       "      <th>profit</th>\n",
       "      <th>sequel</th>\n",
       "    </tr>\n",
       "  </thead>\n",
       "  <tbody>\n",
       "    <tr>\n",
       "      <th>count</th>\n",
       "      <td>1936.000000</td>\n",
       "      <td>1.936000e+03</td>\n",
       "      <td>1822.000000</td>\n",
       "      <td>1.936000e+03</td>\n",
       "      <td>1934.000000</td>\n",
       "    </tr>\n",
       "    <tr>\n",
       "      <th>mean</th>\n",
       "      <td>2011.261880</td>\n",
       "      <td>5.342857e+07</td>\n",
       "      <td>109.396817</td>\n",
       "      <td>1.062571e+08</td>\n",
       "      <td>0.152534</td>\n",
       "    </tr>\n",
       "    <tr>\n",
       "      <th>std</th>\n",
       "      <td>3.457548</td>\n",
       "      <td>5.368562e+07</td>\n",
       "      <td>19.644955</td>\n",
       "      <td>1.998624e+08</td>\n",
       "      <td>0.359630</td>\n",
       "    </tr>\n",
       "    <tr>\n",
       "      <th>min</th>\n",
       "      <td>2006.000000</td>\n",
       "      <td>1.000000e+07</td>\n",
       "      <td>0.000000</td>\n",
       "      <td>-1.104502e+08</td>\n",
       "      <td>0.000000</td>\n",
       "    </tr>\n",
       "    <tr>\n",
       "      <th>25%</th>\n",
       "      <td>2008.000000</td>\n",
       "      <td>1.900000e+07</td>\n",
       "      <td>97.000000</td>\n",
       "      <td>-5.267300e+05</td>\n",
       "      <td>0.000000</td>\n",
       "    </tr>\n",
       "    <tr>\n",
       "      <th>50%</th>\n",
       "      <td>2011.000000</td>\n",
       "      <td>3.275000e+07</td>\n",
       "      <td>108.000000</td>\n",
       "      <td>3.589142e+07</td>\n",
       "      <td>0.000000</td>\n",
       "    </tr>\n",
       "    <tr>\n",
       "      <th>75%</th>\n",
       "      <td>2014.000000</td>\n",
       "      <td>6.500000e+07</td>\n",
       "      <td>120.000000</td>\n",
       "      <td>1.237700e+08</td>\n",
       "      <td>0.000000</td>\n",
       "    </tr>\n",
       "    <tr>\n",
       "      <th>max</th>\n",
       "      <td>2018.000000</td>\n",
       "      <td>4.250000e+08</td>\n",
       "      <td>201.000000</td>\n",
       "      <td>2.351345e+09</td>\n",
       "      <td>1.000000</td>\n",
       "    </tr>\n",
       "  </tbody>\n",
       "</table>\n",
       "</div>"
      ],
      "text/plain": [
       "              year        budget         time        profit       sequel\n",
       "count  1936.000000  1.936000e+03  1822.000000  1.936000e+03  1934.000000\n",
       "mean   2011.261880  5.342857e+07   109.396817  1.062571e+08     0.152534\n",
       "std       3.457548  5.368562e+07    19.644955  1.998624e+08     0.359630\n",
       "min    2006.000000  1.000000e+07     0.000000 -1.104502e+08     0.000000\n",
       "25%    2008.000000  1.900000e+07    97.000000 -5.267300e+05     0.000000\n",
       "50%    2011.000000  3.275000e+07   108.000000  3.589142e+07     0.000000\n",
       "75%    2014.000000  6.500000e+07   120.000000  1.237700e+08     0.000000\n",
       "max    2018.000000  4.250000e+08   201.000000  2.351345e+09     1.000000"
      ]
     },
     "metadata": {},
     "output_type": "display_data"
    }
   ],
   "source": [
    "movie_data = load_clean_data()\n",
    "movie_data = movie_data.sort_values(by=['profit'], ascending=False)\n",
    "display(movie_data.head())\n",
    "display(movie_data.describe())\n"
   ]

  },
  {
   "cell_type": "code",
   "execution_count": 23,
   "outputs": [],
   "source": [
    "inflation_rate = pd.read_csv('data/inflation_rate.csv')\n",
    "# inflation_rate[inflation_rate['Year']==2009.0]['Avg-Avg'].values\n",
    "movie_data['inflation_rate' ] = movie_data.year.map(lambda x: inflation_rate[inflation_rate['Year']==x][\n",
    "                                                                                 'Avg-Avg'].values[0]/100+1)"
   ],
   "metadata": {
    "collapsed": false,
    "pycharm": {
     "name": "#%%\n",
     "is_executing": false
    }
   }

  },
  {
   "cell_type": "markdown",
   "metadata": {
    "pycharm": {
     "name": "#%% md\n"
    }
   },
   "source": [
    "Top 5 ways to make the most profits at box office"
   ]
  },
  {
   "cell_type": "code",

   "metadata": {
    "pycharm": {
     "is_executing": false,
     "name": "#%%\n"
    }
   },
   "outputs": [
    {
     "data": {

      "image/png": "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\n",

      "text/plain": [
       "<Figure size 504x504 with 1 Axes>"
      ]
     },
     "metadata": {
      "needs_background": "light"
     },
     "output_type": "display_data"
    }
   ],
   "source": [
    "data_bar_graph(movie_data,'genre')"
   ]
  },
  {
   "cell_type": "code",
   "metadata": {
    "pycharm": {
     "is_executing": false,
     "name": "#%%\n"
    }
   },
   "outputs": [
    {
     "data": {

      "image/png": "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\n",

      "text/plain": [
       "<Figure size 504x504 with 1 Axes>"
      ]
     },
     "metadata": {
      "needs_background": "light"
     },
     "output_type": "display_data"
    }
   ],
   "source": [
    "data_bar_graph(movie_data,'rating')"
   ]
  },
  {
   "cell_type": "code",

   "execution_count": 11,

   "metadata": {
    "pycharm": {
     "is_executing": false,
     "name": "#%%\n"
    }
   },
   "outputs": [
    {
     "data": {

      "image/png": "iVBORw0KGgoAAAANSUhEUgAAAgkAAAGnCAYAAAA9nMT7AAAABHNCSVQICAgIfAhkiAAAAAlwSFlzAAALEgAACxIB0t1+/AAAADh0RVh0U29mdHdhcmUAbWF0cGxvdGxpYiB2ZXJzaW9uMy4xLjIsIGh0dHA6Ly9tYXRwbG90bGliLm9yZy8li6FKAAAgAElEQVR4nO3de5hdVX3/8fckISSpsZE4NEgTES9fUAGbYsUCilThZ0WgtqkGNCLYGPvTqq1WKxgtVautUi/9eUMsjWJ4TKUoaPCGkVuhbUBRhC9YDWCQdojm1mSYYeb8/th7ZBJWkpk4Z/Zkzvv1PPPMOfvsvdZ3dp7MfM5a6+zd1Wq1kCRJ2tmUpguQJEkTkyFBkiQVGRIkSVKRIUGSJBUZEiRJUtG0pgvQ+Gm1Wq2HHhpsuowJY+rULgYG/HTPEM/HwzwXO/J87GiynY/99pv6ANBdes2Q0EFaLdi4cVvTZUwYc+bM8nwM4/l4mOdiR56PHU2289HdPfvuXb3mdIMkSSoyJEiSpCJDgiRJKjIkSJKkIkOCJEkqMiRIkqQiPwLZYbq7Zzddwqj19vWzZVNv02VIUscxJHSQKVO6WHT+yqbLGLVVyxezBUOCJI03pxskSVKRIUGSJBUZEiRJUpEhQZIkFRkSJElSkSFBkiQVGRIkSVKRIUGSJBUZEiRJUpEhQZIkFRkSJElSkSFBkiQVGRIkSVKRIUGSJBUZEiRJUpEhQZIkFRkSJElSkSFBkiQVGRIkSVKRIUGSJBUZEiRJUpEhQZIkFRkSJElSkSFBkiQVGRIkSVKRIUGSJBVNa0ejEfE04O+AWcCjgK8C78rM1ijb+QPgpsy8b+yrbL+IWEN1DrYN23wSsAJYkpl9hWMWAEdl5hUR8SHggsy8ZzzqlSRpuDEPCRExB7gUeElm3hURU4FVwGuAT4yyuTcAy4B9MiTUlmTmHTtte9lu9j8ROAy4IjPf2L6yJp6+Dfewfd1aWgP9O2xfsmQ1AwM75suZM2ewaNEZLFx49HiWKEkdpR0jCacBV2fmXQCZORARS4A+gIj4IHBcve/nM/PDEXEx8CBwCHAQcFb9/RnAiog4jipknAG0gEsz8yP1cf3A44H9qcLJi4EFdR3zgXOBQWAe8KnM/H8R8VvAR4EBoBf4E6qplyuADVQjHzcB76y3P6ruu2/YPt8GlgBPqX/G9wNrM/MLezpBEbGOKgjMBz4NTKcabTgDeBswKyJuAP6cKiTdD3wOeDTVv9l5mXl1RNwKfAc4sj4vp2Xmpj31P1H13nsrA1s3PGL7+vWbi/tfeeXlhgRJaqN2rEl4HPDj4Rsyc2tm9kXEKcATgGOogsIZEXFEvdvdmXky1R/vpZn5FeC7VH+InwS8tD7meOD0iIj6uHWZeRJwO/CEzPx94ItUYQHgYODUus83RcSBwIXA6zLzucDHgAvqfecBJ2Xm3wFPA16emScAlwGLdtrnr4HrgJPr0ZIXApcXzseKiFhTf52z02sfAP42M58NfBg4CngfVXj68rD9zgO+kZnPqeu4KCK6qELDyvrnWF/XsM+aMf9Ipj5qLlNmPnqHr4MPPph58x63w9cTnnAop5xyetMlS9Kk1o6RhLuBhcM3RMQTqN41Hw5cW69N6I+IG4Gn1rvdUn+/Fzh2pzafTjVa8K36+WOAJ9ePb66/bwSGhvV/AcyoH9+QmQ/WdfwAeCLwuMz8bv36NVR/mAF+MmydwHrgIxGxlSpoXF/Y50Lgz6jC1jdLawwoTzcMCeDfAIZCQUScVdjvcOCSer/1EbEZOLB+bfh5m1E4dp8xfe4Cps9d8IjtK5YvpqdnSwMVSVJna8dIwpXA/4mIJwJExH5U79SfTvVu/7hh238XuKs+rrSocbCuMYHbgOfV7+wvBm7dzXHDPSMipkbELKrRgbuA+yLiyPr15wJ3DutvyIXAqzLzLKo1EV0775OZ11GFjnOAi/ZQR8ntwDMBIuLMiHg9D//MO+93fL3fwVQhaWhcflSLQSVJGqkxDwmZuRl4JXBhvbr/RuB7wMcz80rgJxHxb/X2f8nMm3fZGNxA9UmAe6lGEa6LiP+kGkVYP8KS9gNWA9cC787MB6jWIPxjRFxLtTjyTYXjPgdcGxHXA7OpplFKLgHmZeZtI6xnuLcAf1WfpzPrtr4PnBYRwxc3vhc4MSKuoZrSWJqZD+1Ff5IkjVhXqzV534hGxAnAsszc3acJftU+3gJsyMzPtKuPMdRadP7KpmsYtVVtmm6YM2cWGzdu2/OOHcLz8TDPxY48HzuabOeju3v2WqC4Crwt10noFPWnKx7Hw4skJUmaNCZ1SMjMNcCaNrZ/VrvaliSpaV6WWZIkFRkSJElSkSFBkiQVGRIkSVKRIUGSJBUZEiRJUpEhQZIkFRkSJElSkSFBkiQVGRIkSVKRIUGSJBUZEiRJUpEhQZIkFRkSJElSkSFBkiQVGRIkSVKRIUGSJBUZEiRJUpEhQZIkFRkSJElSkSFBkiQVGRIkSVKRIUGSJBVNa7oAjZ/BwRarli9uuoxR6+3rb7oESepIhoQO09OzpekSJEn7CKcbJElSkSFBkiQVGRIkSVKRIUGSJBUZEiRJUpEhQZIkFRkSJElSkSFBkiQVGRIkSVKRIUGSJBUZEiRJUpEhQZIkFRkSJElSkXeB7DDd3bObLmFCafp89Pb1s2VTb6M1SNKuGBI6yJQpXSw6f2XTZWiYVcsXswVDgqSJyekGSZJUZEiQJElFhgRJklRkSJAkSUWGBEmSVGRIkCRJRYYESZJUZEiQJElFhgRJklRkSJAkSUWGBEmSVGRIkCRJRYYESZJUZEiQJElFhgRJklRkSJAkSUWGBEmSVGRIkCRJRYYESZJUZEiQJElFhgRJklRkSJAkSUWGBEmSVGRIkCRJRYYESZJUZEiQJElF05ouYDKIiEOAW4Gbh22+OjPPH0UbfwDclJn3jXF5kiTtFUPC2PlhZp7wKxz/BmAZYEiYwPo23MP2dWtpDfSPSXtLlqxmYKA1Jm0NN3PmDBYtOoOFC48e87YldQ5DQptExFTgk8B84CDgy5l5XkRcDDwIHFJvP6v+/gxgRUQcB/w1cDQwF/heZr4qIo4FPgj0A9uAP6rbvyQzvxIRhwMfyMwXjdsP2YF6772Vga0bxqy99es3j1lbO7vyyssNCZJ+JYaEsfPUiFgz7Pm5wI2Z+eqImAH8FDivfu3uzHxNRPwJsDQzl0XEd6lGEmYAv8jMF0TEFOC2iDgYOB34AvAh4FTgMcCFwGuBrwBnAxe1/afscDPmH8n2gf4xG0k46IDZbRtJOOWU08e8XUmdxZAwdnaYboiIRwNLIuJ5wGZg/2H73lJ/vxc4dqd2tgMHRsRKYCvwKGA/4L1UweNbwHrgJmAN8NGI6AZOAt4+tj+SdjZ97gKmz10wZu2tWL6Ynp4tY9aeJI0lP93QPmcBGzPzTKppglkR0VW/VnrrOEj17/FCYH5mLqb6oz8T6AJeDlycmc8DbqMagWgBnwU+Anw9M8fm7a0kSTiS0E7fAj4fEc+mWoNwF/C43ex/A7CCairhHRFxDVWY+HF93L8Dn46I/6UKFEvr4y6mGpE4sg0/gySpgxkSxkBmrgOO2WnbbcBRhd3PGrbPVcBV9ePzeHjNwjN30dUxhW3TgGsz845RFS1J0h443bAPi4iXUIWM5U3XIkmafBxJ2Idl5mXAZU3XIUmanBxJkCRJRYYESZJUZEiQJElFhgRJklRkSJAkSUWGBEmSVGRIkCRJRYYESZJUZEiQJElFhgRJklRkSJAkSUWGBEmSVGRIkCRJRYYESZJUZEiQJElFhgRJklRkSJAkSUWGBEmSVGRIkCRJRYYESZJUZEiQJElFhgRJklRkSJAkSUXTmi5A42dwsMWq5YubLkPD9Pb1N12CJO2SIaHD9PRsabqECWPOnFls3Lit6TIkacJyukGSJBUZEiRJUpEhQZIkFRkSJElSkSFBkiQVGRIkSVKRIUGSJBUZEiRJUpEhQZIkFRkSJElSkSFBkiQVGRIkSVKRIUGSJBV5F8gO0909u+kSJpTJdD56+/rZsqm36TIkTSKGhA4yZUoXi85f2XQZapNVyxezBUOCpLHjdIMkSSoyJEiSpCJDgiRJKjIkSJKkIkOCJEkqMiRIkqQiQ4IkSSoyJEiSpCJDgiRJKjIkSJKkIkOCJEkqMiRIkqQiQ4IkSSoa0V0gI+Jg4P3AgcAq4NbMvKmdhUmSpGaNdCThU8BngP2Aa4APt60iSZI0IYw0JMzMzKuBVmYmeNN6SZImu5GGhN6IOBmYGhHHYEiQJGnSG2lIWAq8Cngs8GbgtW2rSJIkTQgjWrgI/CHw2sz8RTuLkSRJE8dIRxKmAd+MiEsi4oQ21iNJkiaIEYWEzPxgZv428CHgTyPizvaWJUmSmjbS6yTMpJpyeCXQBbyznUVJkqTmjXRNwq3Av1CtS/hRG+uRJEkTxG5DQkRMy8yHgN8C+upt0wEys6/95UmSpKbsaSRhBXAG8H2gRTXVQP340DbWJUmSGrbbkJCZZ9QP/zgz/2Nou59wkCRp8tvTdMNxwNOAN0XEBfXmKcDrgKe3ubYRi4i3Ac+nurfEIPDmzFy7i30/BFyQmfeMQ13rgHvqmgB+npkviYjLMvMluzjmCOAxmXlNRFwKLHFqR5LUhD1NN2wE5gH7AwfV2waBv2xnUaMREU8FTgWOzcxWRDwD+GfgqNL+mfnG8awPOCkzd7iM9a4CQu0PgfuBazLzZW2tTJKk3djTdMMPgB9ExIWZed/Q9ojYr+2VjdwmYAFwdkRclZnfjYjfAYiIZ1Fd22EKsB44E1gNLAN+BlwEzK3b+bPM/H5E3AVcDwTw31R/tKcD/wQ8vn78OuA/gU8AT67bPy8z14yk4Ii4PzPnFep7PXAW0BcRNwNfAA6jCmqfofr3atW1fq9Ua2YOjOrsqW36NtzD9nVraQ30j0t/S5asZmCgtdfHT53aNerjZ86cwaJFZ7Bw4dF73a+kiWukH4F8cUT8Rb1/F9APPKVtVY1CZq6PiFOp/nC/MyK2AecCXwQ+CSzOzNsj4hzg8GGHvh34VmZ+PCKeTBUCjqNakHliZt4bEdcDzwSeDazLzJfV+74IeAbwQGaeExFzqW6h/bRCiV+PiKHphr/PzK8Me23n+n4DuBi4PzP/PSKG9vsA8OHM/FI9UnIRcPQuar1xb86jxl7vvbcysHXDuPW3fv3mcetruCuvvNyQIE1SIw0J/xd4LnAesAoY7yH7XYqIJwGbM/Ps+vnRwOqI+DYwLzNvB8jMi+rXhw49AjgxIl5aPz+g/v5AZt5bP74XmEH1Tn113c5dwIci4mPA8fVoAMC0iHhsZj6wU4mPmG4YplTfqYX9DqcKIdQjJfN3U6smiBnzj2T7QP+4jSQcdMDsRkYSTjnl9L3uU9LENtKQcF9m/iwiZmfmmoiYSFdcPBJYGhGn1gv87qRaSzEA3BcRT87MuyLirfVrQ+4APpeZn4+IA4FX19tLvyVvp3qX/qWIOBR4N9U79p9m5nvrK1KeC/x8lLWX6hvkkZfLvh04HvhyPZJw/25q1QQxfe4Cps9dMG79rVi+mJ6eLXt9/Jw5s9i4cdsYViRpXzfSGzxtiojTgVZEvIbqltETQmZeBlwL/Ec95P414C2ZuQl4DfCZiPgO1QWhvjrs0PcAfxwRa4CrgB/spptPAofW7awALqi3HVZvuwG4OzMHd9NGSam+tcDrIuJ5w/Z7M/D6iLgG+Dhwzij7kSRp1LparT2/GY2I2cATgf8B/gK4YqSL9DShtBadv7LpGtQmqxxJGDOeix15PnY02c5Hd/fstVTr3B5hpNMN2+oGFgBXsPt33ZIkaRIY6XTDJ6kCwguA2VRD7pIkaRIbaUh4YmYuB7Zn5hXAr7exJkmSNAGMNCRMi4jHwi/XJ4x2gZ4kSdrHjHRNwrlUV/Y7iOqjf29oW0WSJGlCGOlIwvzMDKpPODw9M7/ZxpokSdIEMNKRhKXAJZnZ085iJEnSxDHSkLB/RNwCJPV6hMw8o21VSZKkxu0xJETEUuAdQB/wHKCH6pLGkiRpEtvtmoSIeBdwEnB9Zn4H+Gz9/DntL02SJDVpTwsXXwgsysxtAJm5Dngp8OI21yVJkhq2p5CwNTN3uLlDZvYDe3+BeEmStE/YU0jYXt8a+Zfq596iWJKkSW5PCxffClweEd8Cfkx1/4aTgVe2uzBJktSs3Y4kZOZtwPHALcCvATcDx2bmLeNQmyRJatAePwKZmZvwro+SJHWckV6WWZIkdRhDgiRJKjIkSJKkIkOCJEkqMiRIkqQiQ4IkSSoyJEiSpCJDgiRJKjIkSJKkoj1ecVGTx+Bgi1XLFzddhtqkt6+/6RIkTTKGhA7T0+NdvofMmTOLjRu3NV2GJE1YTjdIkqQiQ4IkSSoyJEiSpCJDgiRJKjIkSJKkIkOCJEkqMiRIkqQiQ4IkSSoyJEiSpCJDgiRJKjIkSJKkIkOCJEkqMiRIkqQi7wLZYbq7ZzddwoTi+djR0Pno7etny6behquR1DRDQgeZMqWLReevbLoM7QNWLV/MFgwJUqdzukGSJBUZEiRJUpEhQZIkFRkSJElSkSFBkiQVGRIkSVKRIUGSJBUZEiRJUpEhQZIkFRkSJElSkSFBkiQVGRIkSVKRIUGSJBUZEiRJUpEhQZIkFRkSJElSkSFBkiQVGRIkSVKRIUGSJBUZEiRJUpEhQZIkFRkSJElSkSFBkiQVGRIkSVKRIUGSJBUZEiRJUtG0pgtoWkScACzLzJfVz/8IeBfw+8CfAxdk5j3D9j8M+ERmnjCCttcAs4BtwzafBKwAlmRmX+GYBcBRmXlFRHxo5/4lSRovHR8ShouIxcCbgd/LzP8G3jgGzS7JzDt22vay3ex/InAYcEVmjkX/kiTtFUNCLSJeAbweeH5m/qLetgZYBmwCLgG6gPuHHfMe4HlU5/GLmfn+Efa1jioIzAc+DUynGm04A3gbMCsibqAayVhW9/k54NF1X+dl5tURcSvwHeBIoAWclpmb9vYcaN/Qt+Eetq9bS2ugv219LFmymoGBVtvaHzJz5gwWLTqDhQuPbntfkkbPkFA5HjgYOIDyOTkXWJmZF0bES4HX1tvPBE4AfgactYu2V0TE0HTDZzPzomGvfQD428y8KiJOBY4C3gcclplfjog/r/c7D/hGZn44Ig4GrouIQ6lCw8rMfH1EXAK8ELh0tD+89i29997KwNYNbe1j/frNbW1/uCuvvNyQIE1QhoTKz4AXAK8GPhcRL8zMwWGvPwW4sH58PTuGhPcB84DVu2i7NN0wJIB/A8jMLwNExFmF/Q6nGskgM9dHxGbgwPq1W+rv9wIzdtGPJpEZ849k+0B/W0cSDjpg9riNJJxyyult70fS3jEkVH6Umb3AP0bEyVQjB38z7PUfAs8Gvgc8EyAi9gcWAYuH9omISzPz7lH0e3vd3jcj4kyqkYxNPPJTJ7dTjXbcUo8kPAYYeivZ/t/kmlCmz13A9LkL2trHiuWL6enZ0tY+JE18fgTykc4GXhMRzxu27d3AH9RrFE4FyMwHgZ8DNwLfBr4OjPZTCG8B/qpu90yq0YLvA6dFxPDFje8FToyIa4DLgaWZ+dAo+5IkaVS6Wi3fiHaQ1qLzVzZdg/YBqzp8JGHOnFls3Lhtzzt2CM/Hjibb+ejunr0WKC4MciRBkiQVGRIkSVKRIUGSJBUZEiRJUpEhQZIkFRkSJElSkSFBkiQVGRIkSVKRIUGSJBUZEiRJUpEhQZIkFRkSJElSkSFBkiQVGRIkSVKRIUGSJBUZEiRJUpEhQZIkFRkSJElSkSFBkiQVGRIkSVKRIUGSJBUZEiRJUpEhQZIkFRkSJElSkSFBkiQVTWu6AI2fwcEWq5YvbroM7QN6+/qbLkHSBGBI6DA9PVuaLmHCmDNnFhs3bmu6jAnD8yFpZ043SJKkIkOCJEkqMiRIkqQiQ4IkSSoyJEiSpCJDgiRJKjIkSJKkIkOCJEkqMiRIkqQiQ4IkSSoyJEiSpCJDgiRJKjIkSJKkoq5Wq9V0DRong4Ot1pQpXU2XIUljrrevny2beselr8l2x9Tu7tlrgaNLr3mr6A4yZUoXi85f2XQZkjTmVi1fzBbGJyR0EqcbJElSkSFBkiQVGRIkSVKRIUGSJBUZEiRJUpEhQZIkFRkSJElSkSFBkiQVGRIkSVKRIUGSJBUZEiRJUpEhQZIkFRkSJElSkSFBkiQVGRIkSVKRIUGSJBUZEiRJUpEhQZIkFRkSJElSkSFBkiQVGRIkSVKRIUGSJBUZEiRJUpEhQZIkFRkSJElSkSFBkiQVTWu6gIkiIt4GPB/YDxgE3pyZa9vc5zrgsMzsrZ8fBnwiM09oZ7+SJI2EIwlARDwVOBV4QWY+F3gT8Jlmq5IkqVmOJFQ2AQuAsyPiqsz8bkT8DkBErAGWZeYdEbEMmAdcDKwCfgb8JrA6M8+NiPnAp4CZwHZgKTAVuALYAHw1M/9uJAVFxHOB9wADwH8BrwHOBM6mCnfvrGt5I/AgcBewNDP7f7VTIWlf1bfhHravW0troPN+DSxZspqBgda49DV1ate49bUrM2fOYNGiM1i48Oi29mNIADJzfUScCrwOeGdEbAPOBb64m8MOAU6mChjXRcRC4K3ARzJzdUT8HvC+up15wG9nZl+hna9HxGD9eBawLSK6gAuB4zLzfyLib4CzgH7gF5l5WkTMBW4Cfiszt0TEP1AFiX/c+zMhaV/We++tDGzd0HQZjVi/fnPTJYy7K6+83JAwHiLiScDmzDy7fn40sDoivr3Trl3DHn8vM39e738TEMARwNsj4q31vkNx/ie7CAgAJ+28JgHoBg4CvhARUI1MfAP4EZD1cYcCt2Xmlvr5NcBJo/3ZJU0eM+YfyfaB/o4cSTjogNkdN5Jwyimnt70fQ0LlSGBpRJxa/zG/E9hINdTfS/UH+w5gIbC+PubwiJhFNdT/LOCf6n0+kJk31H/wn1vvO8joPAD8FDgtMzfVoxxbqaZEhtr6CfDUiPi1zPzfuq87R9mPpElk+twFTJ+7oOkyGrFi+WJ6erbseccxMGfOLDZu3DYufTXNhYtAZl4GXAv8R0RcD3wNeEtmbgI+AnwsIr5Gtb5gSB/VuoSbgC9l5veAN1NNV3wHWAHcupf1DAJvAL4SETcAfwr8YKd9HqBal/DtiLgReCzw8b3pT5Kkkq5Wq9khk31RRBwCXJqZxzRdyyi1Fp2/sukaJGnMrXIkYa91d89eCxQXNziSIEmSilyTsBcycx2wr40iSJI0Ko4kSJKkIkOCJEkqMiRIkqQiQ4IkSSoyJEiSpCJDgiRJKjIkSJKkIkOCJEkqMiRIkqQiQ4IkSSoyJEiSpCJDgiRJKjIkSJKkIkOCJEkqMiRIkqQiQ4IkSSoyJEiSpCJDgiRJKjIkSJKkIkOCJEkqMiRIkqQiQ4IkSSoyJEiSpKKuVqvVdA0aJ4ODrdaUKV1NlyFJY663r58tm3rHpa85c2axceO2celrPHR3z14LHF16bdo416KG9fRsabqECWOy/Uf/VXk+Hua52JHno3M53SBJkooMCZIkqciQIEmSigwJkiSpyJAgSZKKDAmSJKnI6yR0lh7g7qaLkCRNKI8HuksvGBIkSVKR0w2SJKnIkCBJkooMCZIkqciQIEmSigwJkiSpyJAgSZKKvFV0B4iIKcDHgKOAB4FXZ+aPmq2qWRHxLOD9mXlC07U0KSL2Az4DHALsD7w7M7/caFENioipwIVAAC1gWWb+oNmqmhURBwJrgRdk5h1N19OkiLgZ2Fw//UlmvqrJesaDIaEznA7MyMxnR8QxwAeB0xquqTER8ZfAK4D/bbqWCeDlwIbMfEVEHAB8F+jYkAC8GCAzj42IE4D30Nn/V/YDPglsb7qWpkXEDKCr095YON3QGY4DrgLIzBuBo5stp3H/Bbyk6SImiFXAO+rHXcBDDdbSuMy8HFhaP308sLHBciaCDwCfAO5rupAJ4ChgVkR8PSKurt9wTXqGhM7waGDTsOcDEdGxo0iZ+UWgv+k6JoLM3JqZWyJiNvAvwHlN19S0zHwoIv4Z+ChwSdP1NCUizgJ6MvNrTdcyQWyjCk0nA8uASzrh96ghoTNsBmYPez4lMzv6HaMeFhHzgW8Dn83Mzzddz0SQma8EngJcGBG/1nQ9DTkbeEFErAGeAayIiHnNltSoO4HPZWYrM+8ENgAHNVxT2036FCQArqeaa/1CPUT2/Ybr0QQREb8BfB14XWZ+q+l6mhYRrwB+MzP/luqd42D91XEy8zlDj+ugsCwz72+uosadDRwB/GlEPI5qhPZnzZbUfoaEzvCvVO8IbqCad570K3I1Ym8HHgO8IyKG1ia8MDM7daHaZcA/RcQ1wH7AGzv4XGhHFwEXR8R1VJ98ObsTRmS9C6QkSSpyTYIkSSoyJEiSpCJDgiRJKjIkSJKkIj/dIEnSPm4k96OJiAuorsA7CPxFZl6/p3YNCZImjfp+C18Afkj1MbWZwCWZ+dERHPssqissrgKeACwB5gFHZeYV7apZ+lWN5H40EXEU8LvAs4AnAZcCv72ntg0JkiabqzPzZQARsT+QEfHZzNzTfRhOBj48PFBExInAYYAhQRPZ0P1oPgsQEUcAH6G6Ls4GqgtBrae6QNj+VBeCGtGl6Q0Jkiaz2cAA8M2I+DFwAPAiqgvjHApMBS4AfkL1i7QvIn4K/APwNOBtVDf1uaGTb6GtiS0zvxgRhwzbdCHVxZ5+GBHnAH8J/D3VNMMdwK8DfzKStl24KGmyOTEi1kTE1VTTB68HtgIrM/P5VL8cezLzd4HnA+8GfgxcDFyQmf9atzMAvA/4vAFB+5jDgY/Vl9M+GziYavrsfuCJVNNp74qI39xTQ44kSJpsfjndMKSes8366eHANwHqO2D+kOoXpzRZJLAkM++JiGOpbkQ1E9iamQMRsQV4ENjjzcsMCZI6xdCNmm4Hjgf+tb5F9hFU0w27OsYRV+1rXkt1185pVAt4z6Fat3BsfQ+fqVQLenM3bQCGBEmd51NUt4C+jurd1V9n5v9ERGnf7wPnRsTNmXnpeBYpjUZmrgOOqR+vBZSJWS8AAAA6SURBVE4o7LZstO16gydJklTkMJokSSoyJEiSpCJDgiRJKjIkSJKkIkOCJEkqMiRIkqQiQ4IkSSr6/0qJu4+y+6i0AAAAAElFTkSuQmCC\n",

      "text/plain": [
       "<Figure size 504x504 with 1 Axes>"
      ]
     },
     "metadata": {
      "needs_background": "light"
     },
     "output_type": "display_data"
    }
   ],
   "source": [
    "data_bar_graph(movie_data,'creative')"
   ]

  },
  {
   "cell_type": "code",
   "execution_count": 12,
   "metadata": {
    "pycharm": {
     "is_executing": false,
     "name": "#%%\n"
    }
   },
   "outputs": [
    {
     "data": {
      "image/png": "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\n",
      "text/plain": [
       "<Figure size 504x504 with 1 Axes>"
      ]
     },
     "metadata": {
      "needs_background": "light"
     },
     "output_type": "display_data"
    }
   ],
   "source": [
    "movie_data.source = movie_data.source.apply(lambda x: x.replace('Based on','') if isinstance(x,str) else x)\n",
    "data_bar_graph(movie_data,'source')"
   ]
  },
  {
   "cell_type": "markdown",
   "metadata": {},
   "source": [
    "Do we really want to sit in the movie that long?"
   ]
  },
  {
   "cell_type": "code",
   "execution_count": 20,
   "metadata": {},
   "outputs": [
    {
     "data": {
      "text/plain": [
       "[Text(0, 0.5, 'Ratio of movies'), (50, 200), Text(0.5, 0, 'Time (minutes)')]"
      ]
     },
     "execution_count": 20,
     "metadata": {},
     "output_type": "execute_result"
    },
    {
     "data": {
      "image/png": "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\n",

      "text/plain": [
       "<Figure size 504x504 with 1 Axes>"
      ]
     },
     "metadata": {
      "needs_background": "light"
     },
     "output_type": "display_data"
    }
   ],
   "source": [

    "fig, ax = plt.subplots(figsize=(7,7))\n",
    "ax = sns.distplot(movie_data.time.dropna(), bins=50, color='steelblue')\n",
    "sns.distplot(movie_data.iloc[0:int(movie_data.shape[0]*0.1)]['time'], bins=25, color='darkblue', ax=ax)\n",
    "ax.set(xlim=(50,200),xlabel='Time (minutes)', ylabel='Ratio of movies')"

   ]
  },
  {
   "cell_type": "code",

   "metadata": {
    "pycharm": {
     "is_executing": false,
     "name": "#%%\n"
    }
   },
   "outputs": [
    {
     "data": {

      "text/plain": [
       "<Figure size 504x504 with 1 Axes>"
      ]
     },
     "metadata": {
      "needs_background": "light"
     },
     "output_type": "display_data"
    },
    {
     "data": {

      "text/plain": [
       "<Figure size 504x504 with 1 Axes>"
      ]
     },
     "metadata": {
      "needs_background": "light"
     },
     "output_type": "display_data"
    },
    {
     "data": {

      "text/plain": [
       "<Figure size 504x504 with 1 Axes>"
      ]
     },
     "metadata": {
      "needs_background": "light"
     },
     "output_type": "display_data"
    },
    {
     "data": {

      "text/plain": [
       "<Figure size 504x504 with 1 Axes>"
      ]
     },
     "metadata": {
      "needs_background": "light"
     },
     "output_type": "display_data"
    },
    {
     "data": {

      "text/plain": [
       "<Figure size 504x504 with 1 Axes>"
      ]
     },
     "metadata": {
      "needs_background": "light"
     },
     "output_type": "display_data"
    },
    {
     "data": {

      "text/plain": [
       "<Figure size 504x504 with 1 Axes>"
      ]
     },
     "metadata": {
      "needs_background": "light"
     },
     "output_type": "display_data"
    },
    {
     "data": {

      "text/plain": [
       "<Figure size 504x504 with 1 Axes>"
      ]
     },
     "metadata": {
      "needs_background": "light"
     },
     "output_type": "display_data"
    },
    {
     "data": {

      "text/plain": [
       "<Figure size 504x504 with 1 Axes>"
      ]
     },
     "metadata": {
      "needs_background": "light"
     },
     "output_type": "display_data"
    },
    {
     "data": {

      "text/plain": [
       "<Figure size 504x504 with 1 Axes>"
      ]
     },
     "metadata": {
      "needs_background": "light"
     },
     "output_type": "display_data"
    },
    {
     "data": {

      "text/plain": [
       "<Figure size 504x504 with 1 Axes>"
      ]
     },
     "metadata": {
      "needs_background": "light"
     },
     "output_type": "display_data"
    },
    {
     "data": {

      "text/plain": [
       "<Figure size 504x504 with 1 Axes>"
      ]
     },
     "metadata": {
      "needs_background": "light"
     },
     "output_type": "display_data"
    },
    {
     "data": {

      "text/plain": [
       "<Figure size 504x504 with 1 Axes>"
      ]
     },
     "metadata": {
      "needs_background": "light"
     },
     "output_type": "display_data"
    },
    {
     "data": {

      "text/plain": [
       "<Figure size 504x504 with 1 Axes>"
      ]
     },
     "metadata": {
      "needs_background": "light"
     },
     "output_type": "display_data"
    },
    {
     "data": {

      "text/plain": [
       "<Figure size 504x504 with 1 Axes>"
      ]
     },
     "metadata": {
      "needs_background": "light"
     },
     "output_type": "display_data"
    },
    {
     "data": {

      "text/plain": [
       "<Figure size 504x504 with 1 Axes>"
      ]
     },
     "metadata": {
      "needs_background": "light"
     },
     "output_type": "display_data"
    },
    {
     "data": {

      "text/plain": [
       "<Figure size 504x504 with 1 Axes>"
      ]
     },
     "metadata": {
      "needs_background": "light"
     },
     "output_type": "display_data"
    },
    {
     "data": {

      "text/plain": [
       "<Figure size 504x504 with 1 Axes>"
      ]
     },
     "metadata": {
      "needs_background": "light"
     },
     "output_type": "display_data"
    },
    {
     "data": {

      "text/plain": [
       "<Figure size 504x504 with 1 Axes>"
      ]
     },
     "metadata": {
      "needs_background": "light"
     },
     "output_type": "display_data"
    },
    {
     "data": {

      "text/plain": [
       "<Figure size 504x504 with 1 Axes>"
      ]
     },
     "metadata": {
      "needs_background": "light"
     },
     "output_type": "display_data"
    },
    {
     "data": {

      "text/plain": [
       "<Figure size 504x504 with 1 Axes>"
      ]
     },
     "metadata": {
      "needs_background": "light"
     },
     "output_type": "display_data"
    }
   ],
   "source": [
    "cols = ['genre', 'rating', 'creative', 'source']\n",
    "\n",
    "for col in cols:\n",
    "    avg_ = movie_data.groupby(col).agg('mean').reset_index().sort_values('profit')\n",
    "    for topn in avg_[col][-5:]:\n",
    "        data_line_graph(subset_df(movie_data,col,topn), col, topn)\n",
    "        "
   ]
  },
  {
   "cell_type": "code",
   "execution_count": null,
   "metadata": {
    "pycharm": {
     "name": "#%%\n"
    }
   },
   "outputs": [],
   "source": [
    "\n"
   ]
  }
 ],
 "metadata": {
  "kernelspec": {

  },
  "language_info": {
   "codemirror_mode": {
    "name": "ipython",
    "version": 3
   },
   "file_extension": ".py",
   "mimetype": "text/x-python",
   "name": "python",
   "nbconvert_exporter": "python",
   "pygments_lexer": "ipython3",

  },
  "pycharm": {
   "stem_cell": {
    "cell_type": "raw",
    "metadata": {
     "collapsed": false
    },
    "source": []
   }
  }
 },
 "nbformat": 4,
 "nbformat_minor": 1
}
