{
 "cells": [
  {
   "cell_type": "code",
   "execution_count": 1,
   "outputs": [],
   "source": [
    "# Module Imports\n",
    "import pandas as pd\n",
    "import seaborn as sns\n",
    "from sklearn.preprocessing import MultiLabelBinarizer\n",
    "%matplotlib inline"
   ],
   "metadata": {
    "collapsed": false,
    "pycharm": {
     "name": "#%%\n",
     "is_executing": false
    }
   }
  },
  {
   "cell_type": "code",
   "execution_count": 2,
   "outputs": [],
   "source": [
    "# IMDB\n",
    "imdb_names = pd.read_csv('data/imdb.name.basics.csv.gz',)\n",
    "imdb_title = pd.read_csv('data/imdb.title.basics.csv.gz',)\n",
    "# imdb_akas = pd.read_csv('data/imdb.title.akas.csv.gz',)\n",
    "# imdb_principals = pd.read_csv('data/imdb.title.principals.csv.gz',)\n",
    "# imdb_ratings = pd.read_csv('data/imdb.title.ratings.csv.gz',)\n",
    "imdb_title.shape"
   ],
   "metadata": {
    "collapsed": false,
    "pycharm": {
     "name": "#%%\n",
     "is_executing": false
    }
   }
  },
  {
   "cell_type": "code",
   "source": [
    "'''bom_gross = pd.read_csv('data/bom.movie_gross.csv.gz',)\n",
    "bom_gross.shape'''"
   ],
   "metadata": {
    "collapsed": false,
    "pycharm": {
     "name": "#%%\n",
     "is_executing": false
    }
   },
   "execution_count": 43,
   "outputs": []
  },
  {
   "cell_type": "code",
   "execution_count": 38,
   "outputs": [],
   "source": [
    "'''\n",
    "# Rotten Tomato\n",
    "rt_movies = pd.read_csv('data/rt.movie_info.tsv.gz',delimiter='\\t')\n",
    "rt_reviews = pd.read_csv('data/rt.reviews.tsv.gz',delimiter='\\t', encoding='latin-1')\n",
    "'''"
   ],
   "metadata": {
    "collapsed": false,
    "pycharm": {
     "name": "#%%\n",
     "is_executing": false
    }
   }
  },
  {
   "cell_type": "code",
   "execution_count": 3,
   "outputs": [],
   "source": [
    "# The Movie DB\n",
    "tmdb_movies = pd.read_csv('data/tmdb.movies.csv.gz',)"
   ],
   "metadata": {
    "collapsed": false,
    "pycharm": {
     "name": "#%%\n",
     "is_executing": false
    }
   }
  },
  {
   "cell_type": "code",
   "execution_count": 4,
   "outputs": [],
   "source": [
    "tn_budget = pd.read_csv('data/tn.movie_budgets.csv.gz', )\n",
    "tn_budget2 = pd.read_csv('data/themovies.csv', )\n",
    "tn_budget = tn_budget.rename(columns={'movie': 'title'})\n",
    "\n",
    "tn_budget.shape\n"
   ],
   "metadata": {
    "collapsed": false,
    "pycharm": {
     "name": "#%%\n",
     "is_executing": false
    }
   }
  },
  {
   "cell_type": "code",
   "execution_count": 5,
   "outputs": [],
   "source": [
    "# Clean the currency strings\n",
    "def currency_str(x):\n",
    "    return x.replace(',','').replace('$','')"
   ],
   "metadata": {
    "collapsed": false,
    "pycharm": {
     "name": "#%%\n",
     "is_executing": false
    }
   }
  },
  {
   "cell_type": "code",
   "execution_count": 6,
   "outputs": [],
   "source": [
    "tn_budget.domestic_gross = tn_budget.domestic_gross.apply(currency_str).astype('float')\n",
    "tn_budget.worldwide_gross = tn_budget.worldwide_gross.apply(currency_str).astype('float')\n",
    "tn_budget.production_budget = tn_budget.production_budget.apply(currency_str).astype('float')"
   ],
   "metadata": {
    "collapsed": false,
    "pycharm": {
     "name": "#%%\n",
     "is_executing": false
    }
   }
  },
  {
   "cell_type": "code",
   "execution_count": 7,
   "outputs": [],
   "source": [
    "tn_budget = tn_budget.where(tn_budget.worldwide_gross>0).dropna()"
   ],
   "metadata": {
    "collapsed": false,
    "pycharm": {
     "name": "#%%\n",
     "is_executing": false
    }
   }
  },
  {
   "cell_type": "code",
   "execution_count": 8,
   "outputs": [],
   "source": [
    "tn_budget['profit'] = tn_budget.worldwide_gross - tn_budget.production_budget\n",
    "tn_budget.describe()\n"
   ],
   "metadata": {
    "collapsed": false,
    "pycharm": {
     "name": "#%%\n",
     "is_executing": false
    }
   }
  },
  {
   "cell_type": "code",
   "execution_count": 9,
   "outputs": [],
   "source": [],
   "metadata": {
    "collapsed": false,
    "pycharm": {
     "name": "#%%\n",
     "is_executing": false
    }
   }
  },
  {
   "cell_type": "markdown",
   "source": [
    "### Exploring the Profitability of Genre \n",
    "IMDB dataset contains 146144 movie titles."
   ],
   "metadata": {
    "collapsed": false,
    "pycharm": {
     "name": "#%% md\n"
    }
   }
  },
  {
   "cell_type": "code",
   "execution_count": 16,
   "outputs": [],
   "source": [],
   "metadata": {
    "collapsed": false,
    "pycharm": {
     "name": "#%%\n",
     "is_executing": false
    }
   }
  },
  {
   "cell_type": "code",
   "execution_count": 10,
   "outputs": [],
   "source": [
    "# Join the TN Profits and IMDB Movie Titles datasets\n",
    "imdb_title = imdb_title.rename(columns={'original_title':'title','start_year': 'year'})\n"
   ],
   "metadata": {
    "collapsed": false,
    "pycharm": {
     "name": "#%%\n",
     "is_executing": false
    }
   }
  },
  {
   "cell_type": "code",
   "execution_count": 13,
   "outputs": [],
   "source": [
    "tn_budget['year'] = pd.to_datetime(tn_budget.release_date).dt.year"
   ],
   "metadata": {
    "collapsed": false,
    "pycharm": {
     "name": "#%%\n",
     "is_executing": false
    }
   }
  },
  {
   "cell_type": "code",
   "execution_count": 14,
   "outputs": [],
   "source": [
    "tn_imdb_join = imdb_title.join(tn_budget.set_index(['title','year']), on=['title','year'], how='inner')\n",
    "# drop the empty genres\n",
    "tn_imdb_join = tn_imdb_join.dropna(subset='genres')\n",
    "tn_imdb_join.shape\n"
   ],
   "metadata": {
    "collapsed": false,
    "pycharm": {
     "name": "#%%\n",
     "is_executing": false
    }
   }
  },
  {
   "cell_type": "code",
   "execution_count": 16,
   "outputs": [],
   "source": [
    "Genres = MultiLabelBinarizer()\n",
    "Genres.fit(tn_imdb_join.genres.dropna().apply(lambda x: x.split(',')))"
   ],
   "metadata": {
    "collapsed": false,
    "pycharm": {
     "name": "#%%\n",
     "is_executing": false
    }
   }
  },
  {
   "cell_type": "code",
   "execution_count": 17,
   "outputs": [],
   "source": [
    "imdb_genres = Genres.transform(tn_imdb_join.genres.dropna().apply(lambda x: x.split(',')))"
   ],
   "metadata": {
    "collapsed": false,
    "pycharm": {
     "name": "#%%\n",
     "is_executing": false
    }
   }
  },
  {
   "cell_type": "code",
   "execution_count": 19,
   "outputs": [],
   "source": [
    "imdb_genres.sum(axis=0)"
   ],
   "metadata": {
    "collapsed": false,
    "pycharm": {
     "name": "#%%\n",
     "is_executing": false
    }
   }
  },
  {
   "cell_type": "code",
   "execution_count": null,
   "outputs": [],
   "source": [
    "\n"
   ],
   "metadata": {
    "collapsed": false,
    "pycharm": {
     "name": "#%%\n"
    }
   }
  }
 ],
 "metadata": {
  "kernelspec": {
   "name": "pycharm-86780380",
   "language": "python",
   "display_name": "PyCharm (dsc-data-cleaning-project-dc-ds-111819)"
  },
  "language_info": {
   "codemirror_mode": {
    "name": "ipython",
    "version": 2
   },
   "file_extension": ".py",
   "mimetype": "text/x-python",
   "name": "python",
   "nbconvert_exporter": "python",
   "pygments_lexer": "ipython2",
   "version": "2.7.6"
  },
  "pycharm": {
   "stem_cell": {
    "cell_type": "raw",
    "source": [],
    "metadata": {
     "collapsed": false
    }
   }
  }
 },
 "nbformat": 4,
 "nbformat_minor": 0
}